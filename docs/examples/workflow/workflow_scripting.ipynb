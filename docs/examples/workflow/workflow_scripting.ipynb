{
 "cells": [
  {
   "cell_type": "markdown",
   "metadata": {},
   "source": [
    "# Scripting a Workflow"
   ]
  },
  {
   "cell_type": "code",
   "execution_count": null,
   "metadata": {},
   "outputs": [],
   "source": [
    "import napari_segment_blobs_and_things_with_membranes as nsbatwm\n",
    "import numpy as np\n",
    "import stackview\n",
    "from bioio import BioImage\n",
    "from napari_workflows import Workflow\n",
    "from napari_workflows._io_yaml_v1 import load_workflow, save_workflow\n"
   ]
  },
  {
   "cell_type": "code",
   "execution_count": null,
   "metadata": {},
   "outputs": [],
   "source": [
    "wf = Workflow()\n",
    "\n",
    "wf.set('membrane-gb', nsbatwm.gaussian_blur, 'membrane', sigma=1)\n",
    "wf.set('membrane-threshold', nsbatwm.threshold_otsu, 'membrane-gb')\n",
    "wf.set('membrane-label', nsbatwm.label, 'membrane-threshold')\n",
    "\n",
    "wf.set('nucleus-gb', nsbatwm.gaussian_blur, 'nucleus', sigma=1)\n",
    "wf.set('nucleus-threshold', nsbatwm.threshold_otsu, 'nucleus-gb')\n",
    "wf.set('nucleus-label', nsbatwm.label, 'nucleus-threshold')\n",
    "\n",
    "save_workflow('cpu_workflow-2roots-2leafs.yaml', wf)\n"
   ]
  },
  {
   "cell_type": "code",
   "execution_count": null,
   "metadata": {},
   "outputs": [
    {
     "data": {
      "image/png": "[encoded data removed]",
      "text/plain": [
       "<Figure size 640x480 with 1 Axes>"
      ]
     },
     "metadata": {},
     "output_type": "display_data"
    }
   ],
   "source": [
    "wf = load_workflow('cpu_workflow-2roots-2leafs.yaml')\n",
    "\n",
    "img = BioImage(r'images\\cells3d2ch.tiff')\n",
    "membrane = img.get_image_data('TCZYX', C=0)\n",
    "membrane = np.squeeze(membrane)\n",
    "\n",
    "nuclei = img.get_image_data('TCZYX', C=1)\n",
    "nuclei = np.squeeze(nuclei)\n",
    "\n",
    "wf.set('membrane', membrane)\n",
    "wf.set('nucleus', nuclei)\n",
    "membrane_label = wf.get('nucleus-label')\n",
    "\n",
    "stackview.imshow(membrane_label)"
   ]
  }
 ],
 "metadata": {
  "language_info": {
   "name": "python"
  }
 },
 "nbformat": 4,
 "nbformat_minor": 2
}
