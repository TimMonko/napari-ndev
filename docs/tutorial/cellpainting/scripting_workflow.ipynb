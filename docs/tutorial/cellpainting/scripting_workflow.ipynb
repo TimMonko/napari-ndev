{
 "cells": [
  {
   "cell_type": "code",
   "execution_count": 1,
   "metadata": {},
   "outputs": [],
   "source": [
    "import stackview\n",
    "import pyclesperanto_prototype as cle\n",
    "from napari_workflows import Workflow\n",
    "from napari_workflows._io_yaml_v1 import load_workflow, save_workflow\n",
    "\n",
    "from napari_ndev import morphology, nImage\n"
   ]
  },
  {
   "cell_type": "code",
   "execution_count": null,
   "metadata": {},
   "outputs": [],
   "source": [
    "wf = Workflow()\n",
    "\n",
    "# label nuclei\n",
    "wf.set('nuclei-labels', cle.voronoi_otsu_labeling, 'nuclei', spot_sigma=5, outline_sigma=1)\n",
    "\n",
    "# label nucleoli\n",
    "wf.set('nucleoli-med', cle.median_sphere, 'nucleoli', radius_x=1, radius_y=1)\n",
    "wf.set('nucleoli-th', cle.top_hat_sphere, 'nucleoli-med', radius_x=5, radius_y=5)\n",
    "wf.set('nucleoli-labels', cle.voronoi_otsu_labeling, 'nucleoli-th', spot_sigma=1, outline_sigma=1)\n",
    "\n",
    "# label cytoplasm\n",
    "wf.set('cyto-med', cle.median_sphere, 'cyto-membrane', radius_x=1, radius_y=1)\n",
    "wf.set('cyto-th', cle.top_hat_sphere, 'cyto-med', radius_x=5, radius_y=5)\n",
    "\n"
   ]
  }
 ],
 "metadata": {
  "kernelspec": {
   "display_name": "ndev-311",
   "language": "python",
   "name": "python3"
  },
  "language_info": {
   "codemirror_mode": {
    "name": "ipython",
    "version": 3
   },
   "file_extension": ".py",
   "mimetype": "text/x-python",
   "name": "python",
   "nbconvert_exporter": "python",
   "pygments_lexer": "ipython3",
   "version": "3.10.15"
  }
 },
 "nbformat": 4,
 "nbformat_minor": 2
}
