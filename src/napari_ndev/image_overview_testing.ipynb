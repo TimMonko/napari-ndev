{
 "cells": [
  {
   "cell_type": "code",
   "execution_count": 9,
   "metadata": {},
   "outputs": [],
   "source": [
    "# helpers\n",
    "from napari_ndev import helpers\n",
    "import pathlib\n",
    "import numpy as np\n",
    "import pandas as pd\n",
    "from pprint import pprint\n",
    "\n",
    "# image loading and saving\n",
    "from bioio import BioImage\n",
    "import bioio_ome_tiff\n",
    "from bioio.writers import OmeTiffWriter\n",
    "\n",
    "# image processing\n",
    "import apoc\n",
    "import pyclesperanto_prototype as cle\n",
    "\n",
    "# image analysis\n",
    "from skimage import measure\n",
    "\n",
    "# image viewing\n",
    "import napari\n",
    "import stackview\n",
    "import matplotlib.pyplot as plt"
   ]
  },
  {
   "cell_type": "code",
   "execution_count": 27,
   "metadata": {},
   "outputs": [],
   "source": [
    "# create a class that can be used to view a set of images\n",
    "# this is given a list of dictionaries, each of which contains a set of images\n",
    "# for each image set, there should be a new row, and each image should be a new column\n",
    "\n",
    "class ImageOverview:\n",
    "    def __init__(self, image_sets):\n",
    "        self.image_sets = image_sets\n",
    "        self.fig, self.axs = self._construct_overview()\n",
    "        \n",
    "    def _construct_overview(self):\n",
    "        num_rows = len(self.image_sets)\n",
    "        num_columns = max(\n",
    "            [len(image_set['images']) for image_set in self.image_sets]\n",
    "        )\n",
    "        \n",
    "        fig, axs = plt.subplots(\n",
    "            num_rows, \n",
    "            num_columns,\n",
    "            figsize=(num_columns * 5, num_rows * 5)\n",
    "        )\n",
    "        \n",
    "        if num_rows == 1:\n",
    "            axs = [axs]\n",
    "        if num_columns == 1:\n",
    "            axs = [[ax] for ax in axs]\n",
    "            \n",
    "        # iterate through the image sets\n",
    "        for row, image_set in enumerate(self.image_sets):\n",
    "            images = image_set['images']\n",
    "            colormaps = image_set.get('colormaps', ['gray'] * len(images)) # default to gray for each image if no colormap\n",
    "            titles = image_set.get('titles', [''] * len(images))\n",
    "            \n",
    "            for col, image in enumerate(images):\n",
    "                stackview.imshow(\n",
    "                    image, \n",
    "                    title=titles[col],\n",
    "                    colormap=colormaps[col],\n",
    "                    plot=axs[row][col],\n",
    "                )\n",
    "\n",
    "        plt.subplots_adjust(wspace=0.1, hspace=0.1)\n",
    "        # plt.tight_layout()\n",
    "        return fig, axs\n",
    "    \n",
    "    def show(self):\n",
    "        plt.show()\n",
    "    \n",
    "    # def save(self, filepath):\n",
    "    #     self.fig.savefig(filepath)"
   ]
  },
  {
   "cell_type": "code",
   "execution_count": 29,
   "metadata": {},
   "outputs": [
    {
     "data": {
      "image/png": "[encoded data removed]",
      "text/plain": [
       "<Figure size 1000x500 with 2 Axes>"
      ]
     },
     "metadata": {},
     "output_type": "display_data"
    },
    {
     "data": {
      "text/plain": [
       "<__main__.ImageOverview at 0x1ab1795e410>"
      ]
     },
     "execution_count": 29,
     "metadata": {},
     "output_type": "execute_result"
    }
   ],
   "source": [
    "img = BioImage(\n",
    "    r'C:\\Users\\timmo\\Documents\\Github\\napari-ndev\\src\\napari_ndev\\_tests\\resources\\Apoc\\Images\\SPF-4MM-22 slide 9-S6_Top Slide_TR2_p00_0_A01f00d0.tiff'\n",
    ")\n",
    "# stackview.imshow(np.squeeze(img.data))\n",
    "image_data = np.squeeze(img.data)\n",
    "reversed_data = np.flip(image_data, axis=0)\n",
    "\n",
    "image_set1 = {\n",
    "    'images': [image_data, reversed_data],\n",
    "    'colormaps': ['red', 'green'],\n",
    "    'titles': ['Image 1', 'Image 2']\n",
    "}\n",
    "\n",
    "overview = ImageOverview([image_set1])\n",
    "overview.show()\n",
    "overview"
   ]
  },
  {
   "cell_type": "code",
   "execution_count": null,
   "metadata": {},
   "outputs": [],
   "source": [
    "import matplotlib.pyplot as plt\n",
    "from skimage import io\n",
    "\n",
    "class ImageSet:\n",
    "    def __init__(self, image_sets):\n",
    "        self.image_sets = image_sets\n",
    "        self.fig, self.axs = self._construct_subplot()\n",
    "    \n",
    "    def _construct_subplot(self):\n",
    "        num_rows = len(self.image_sets)\n",
    "        num_columns = max(len(image_set['images']) for image_set in self.image_sets)\n",
    "        \n",
    "        fig, axs = plt.subplots(num_rows, num_columns, figsize=(5 * num_columns, 5 * num_rows))\n",
    "        \n",
    "        if num_rows == 1:\n",
    "            axs = [axs]\n",
    "        if num_columns == 1:\n",
    "            axs = [[ax] for ax in axs]\n",
    "        \n",
    "        for row, image_set in enumerate(self.image_sets):\n",
    "            images = image_set['images']\n",
    "            colormaps = image_set.get('colormaps', ['gray'] * len(images))\n",
    "            titles = image_set.get('titles', [''] * len(images))\n",
    "            \n",
    "            for col, image in enumerate(images):\n",
    "                ax = axs[row][col]\n",
    "                ax.imshow(image, cmap=colormaps[col])\n",
    "                ax.set_title(titles[col])\n",
    "                ax.axis('off')\n",
    "        \n",
    "        plt.tight_layout()\n",
    "        return fig, axs\n",
    "\n",
    "    def display(self):\n",
    "        # Display the constructed subplot\n",
    "        plt.show()\n",
    "\n",
    "    def save(self, filepath):\n",
    "        # Save the constructed subplot to a file\n",
    "        # Note: This saves the entire figure as a single image\n",
    "        self.fig.savefig(filepath)\n",
    "        print(f\"Saved figure to {filepath}\")\n",
    "\n",
    "# Example usage:\n",
    "# image_sets = [\n",
    "#     {'images': [img1, img2], 'colormaps': ['gray', 'viridis'], 'titles': ['First', 'Second']},\n",
    "#     {'images': [img3], 'titles': ['Third']}\n",
    "# ]\n",
    "# img_set = ImageSet(image_sets)\n",
    "# img_set.display()\n",
    "# img_set.save('path/to/save/overview.png')"
   ]
  }
 ],
 "metadata": {
  "kernelspec": {
   "display_name": "napari-env",
   "language": "python",
   "name": "python3"
  },
  "language_info": {
   "codemirror_mode": {
    "name": "ipython",
    "version": 3
   },
   "file_extension": ".py",
   "mimetype": "text/x-python",
   "name": "python",
   "nbconvert_exporter": "python",
   "pygments_lexer": "ipython3",
   "version": "3.10.12"
  }
 },
 "nbformat": 4,
 "nbformat_minor": 2
}
