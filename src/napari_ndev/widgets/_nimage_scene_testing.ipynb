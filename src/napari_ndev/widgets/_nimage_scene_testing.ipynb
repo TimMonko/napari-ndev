{
 "cells": [
  {
   "cell_type": "code",
   "execution_count": 26,
   "metadata": {},
   "outputs": [],
   "source": [
    "\n",
    "from bioio import BioImage\n",
    "from bioio_base import dimensions"
   ]
  },
  {
   "cell_type": "code",
   "execution_count": 39,
   "metadata": {},
   "outputs": [
    {
     "data": {
      "text/plain": [
       "'M'"
      ]
     },
     "execution_count": 39,
     "metadata": {},
     "output_type": "execute_result"
    }
   ],
   "source": [
    "dimensions.DimensionNames.MosaicTile"
   ]
  },
  {
   "cell_type": "code",
   "execution_count": 33,
   "metadata": {},
   "outputs": [
    {
     "data": {
      "text/plain": [
       "<Dimensions [T: 3, C: 4, Z: 3, Y: 32, X: 32]>"
      ]
     },
     "execution_count": 33,
     "metadata": {},
     "output_type": "execute_result"
    }
   ],
   "source": [
    "file_path = r'C:\\Users\\timmo\\napari-ndev\\src\\napari_ndev\\_tests\\resources\\test_czis\\3T-4C-3Z-2pos.czi'\n",
    "img = BioImage(file_path)\n",
    "\n",
    "# img."
   ]
  }
 ],
 "metadata": {
  "kernelspec": {
   "display_name": "bastian-lab",
   "language": "python",
   "name": "python3"
  },
  "language_info": {
   "codemirror_mode": {
    "name": "ipython",
    "version": 3
   },
   "file_extension": ".py",
   "mimetype": "text/x-python",
   "name": "python",
   "nbconvert_exporter": "python",
   "pygments_lexer": "ipython3",
   "version": "3.10.8"
  }
 },
 "nbformat": 4,
 "nbformat_minor": 2
}
